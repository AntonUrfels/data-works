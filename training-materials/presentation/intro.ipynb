{
  "cells": [
    {
      "cell_type": "raw",
      "metadata": {},
      "source": [
        "---\n",
        "title: \"R4Ag - Reproducible research and digital landscapes for sustainable agriculture\"\n",
        "author: \"Anton Urfels\"\n",
        "format: revealjs\n",
        "---"
      ],
      "id": "aefd6277"
    },
    {
      "cell_type": "markdown",
      "metadata": {},
      "source": [
        "```{css, echo=FALSE}\n",
        ".title {\n",
        "  font-size: 100px;\n",
        "}\n",
        "```\n",
        "\n",
        "\n",
        "\n",
        "## The destination\n",
        "\n",
        "::: columns\n",
        "::: {.column width=\"40%\"}\n",
        "Digital twins of our agro-ecological landscapes.\n",
        ":::\n",
        "\n",
        "::: {.column width=\"60%\"}\n",
        "![](digital_twins.jpeg)\n",
        ":::\n",
        ":::\n",
        "\n",
        "## Digital landscapes for sustainable agri-food systems\n",
        "\n",
        "-   We need to ensure our foundations a **solid**\n",
        "\n",
        "-   Data is the backbone of these developments\n",
        "\n",
        "-   But data without knowledge will not suffice\n",
        "\n",
        "-   We are well placed to work at this interface\n",
        "\n",
        "# "
      ],
      "id": "b9a69e6b"
    }
  ],
  "metadata": {
    "kernelspec": {
      "display_name": "Python 3",
      "language": "python",
      "name": "python3"
    }
  },
  "nbformat": 4,
  "nbformat_minor": 5
}